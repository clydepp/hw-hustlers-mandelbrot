{
 "cells": [
  {
   "cell_type": "code",
   "execution_count": 10,
   "id": "bb996439",
   "metadata": {},
   "outputs": [
    {
     "ename": "KeyboardInterrupt",
     "evalue": "",
     "output_type": "error",
     "traceback": [
      "\u001b[0;31m---------------------------------------------------------------------------\u001b[0m",
      "\u001b[0;31mKeyboardInterrupt\u001b[0m                         Traceback (most recent call last)",
      "Cell \u001b[0;32mIn[10], line 15\u001b[0m\n\u001b[1;32m     13\u001b[0m \u001b[38;5;28;01mwith\u001b[39;00m \u001b[38;5;28mopen\u001b[39m(\u001b[38;5;124m\"\u001b[39m\u001b[38;5;124mpixels.csv\u001b[39m\u001b[38;5;124m\"\u001b[39m, newline\u001b[38;5;241m=\u001b[39m\u001b[38;5;124m'\u001b[39m\u001b[38;5;124m'\u001b[39m) \u001b[38;5;28;01mas\u001b[39;00m csvfile:\n\u001b[1;32m     14\u001b[0m     reader \u001b[38;5;241m=\u001b[39m csv\u001b[38;5;241m.\u001b[39mDictReader(csvfile)\n\u001b[0;32m---> 15\u001b[0m     \u001b[38;5;28;01mfor\u001b[39;00m row \u001b[38;5;129;01min\u001b[39;00m reader:\n\u001b[1;32m     16\u001b[0m         x \u001b[38;5;241m=\u001b[39m \u001b[38;5;28mint\u001b[39m(row[\u001b[38;5;124m'\u001b[39m\u001b[38;5;124mx\u001b[39m\u001b[38;5;124m'\u001b[39m])\n\u001b[1;32m     17\u001b[0m         y \u001b[38;5;241m=\u001b[39m \u001b[38;5;28mint\u001b[39m(row[\u001b[38;5;124m'\u001b[39m\u001b[38;5;124my\u001b[39m\u001b[38;5;124m'\u001b[39m])\n",
      "File \u001b[0;32m/usr/lib/python3.10/csv.py:124\u001b[0m, in \u001b[0;36mDictReader.__next__\u001b[0;34m(self)\u001b[0m\n\u001b[1;32m    122\u001b[0m \u001b[38;5;28;01mif\u001b[39;00m lf \u001b[38;5;241m<\u001b[39m lr:\n\u001b[1;32m    123\u001b[0m     d[\u001b[38;5;28mself\u001b[39m\u001b[38;5;241m.\u001b[39mrestkey] \u001b[38;5;241m=\u001b[39m row[lf:]\n\u001b[0;32m--> 124\u001b[0m \u001b[38;5;28;01melif\u001b[39;00m lf \u001b[38;5;241m>\u001b[39m lr:\n\u001b[1;32m    125\u001b[0m     \u001b[38;5;28;01mfor\u001b[39;00m key \u001b[38;5;129;01min\u001b[39;00m \u001b[38;5;28mself\u001b[39m\u001b[38;5;241m.\u001b[39mfieldnames[lr:]:\n\u001b[1;32m    126\u001b[0m         d[key] \u001b[38;5;241m=\u001b[39m \u001b[38;5;28mself\u001b[39m\u001b[38;5;241m.\u001b[39mrestval\n",
      "\u001b[0;31mKeyboardInterrupt\u001b[0m: "
     ]
    }
   ],
   "source": [
    "from PIL import Image\n",
    "import os\n",
    "import csv\n",
    "\n",
    "# Get the directory where the script is located\n",
    "\n",
    "\n",
    "# Path to your CSV\n",
    "\n",
    "\n",
    "# First, determine the width and height from the CSV\n",
    "max_x = max_y = 0\n",
    "with open(\"pixels.csv\", newline='') as csvfile:\n",
    "    reader = csv.DictReader(csvfile)\n",
    "    for row in reader:\n",
    "        x = int(row['x'])\n",
    "        y = int(row['y'])\n",
    "        max_x = max(max_x, x)\n",
    "        max_y = max(max_y, y)\n",
    "\n",
    "# Image dimensions are max index + 1\n",
    "# width = max_x + 1\n",
    "# height = max_y + 1\n",
    "width = 640\n",
    "height = 480\n",
    "# Create an empty RGB image\n",
    "image = Image.new('RGB', (width, height))\n",
    "pixels = image.load()\n",
    "\n",
    "# Fill the image with RGB values from the CSV\n",
    "with open(\"pixels.csv\", newline='') as csvfile:\n",
    "    reader = csv.DictReader(csvfile)\n",
    "    for row in reader:\n",
    "        x = int(row['x'])\n",
    "        y = int(row['y'])\n",
    "        r = int(row['r'])\n",
    "        g = int(row['g'])\n",
    "        b = int(row['b'])\n",
    "        pixels[x, y] = (r, g, b)\n",
    "        print(f\"Set pixel at ({x}, {y}) to RGB({r}, {g}, {b})\")\n",
    "\n",
    "        if x == max_x and y == max_y:\n",
    "            print(\"Reached the last pixel in the CSV.\")\n",
    "            break\n",
    "\n",
    "# Save the image\n",
    "output_path = \"output_from_csv.png\"\n",
    "image.save(\"output_from_csv.png\")\n",
    "print(f\"Image saved to {output_path}\")\n"
   ]
  }
 ],
 "metadata": {
  "kernelspec": {
   "display_name": "Python 3",
   "language": "python",
   "name": "python3"
  },
  "language_info": {
   "codemirror_mode": {
    "name": "ipython",
    "version": 3
   },
   "file_extension": ".py",
   "mimetype": "text/x-python",
   "name": "python",
   "nbconvert_exporter": "python",
   "pygments_lexer": "ipython3",
   "version": "3.10.12"
  }
 },
 "nbformat": 4,
 "nbformat_minor": 5
}
