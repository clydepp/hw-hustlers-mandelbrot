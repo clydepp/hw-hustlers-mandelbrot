{
 "cells": [
  {
   "cell_type": "code",
   "execution_count": 6,
   "id": "bb996439",
   "metadata": {},
   "outputs": [
    {
     "name": "stdout",
     "output_type": "stream",
     "text": [
      "Image saved to output_from_csv.png\n"
     ]
    }
   ],
   "source": [
    "from PIL import Image\n",
    "import os\n",
    "import csv\n",
    "\n",
    "# Get the directory where the script is located\n",
    "\n",
    "\n",
    "# Path to your CSV\n",
    "\n",
    "\n",
    "# First, determine the width and height from the CSV\n",
    "max_x = max_y = 0\n",
    "with open(\"mandelbrot_rgb.csv\", newline='') as csvfile:\n",
    "    reader = csv.DictReader(csvfile)\n",
    "    for row in reader:\n",
    "        x = int(row['x'])\n",
    "        y = int(row['y'])\n",
    "        max_x = max(max_x, x)\n",
    "        max_y = max(max_y, y)\n",
    "\n",
    "# Image dimensions are max index + 1\n",
    "width = max_x + 1\n",
    "height = max_y + 1\n",
    "\n",
    "# Create an empty RGB image\n",
    "image = Image.new('RGB', (width, height))\n",
    "pixels = image.load()\n",
    "\n",
    "# Fill the image with RGB values from the CSV\n",
    "with open(\"mandelbrot_rgb.csv\", newline='') as csvfile:\n",
    "    reader = csv.DictReader(csvfile)\n",
    "    for row in reader:\n",
    "        x = int(row['x'])\n",
    "        y = int(row['y'])\n",
    "        r = int(row['R'])\n",
    "        g = int(row['G'])\n",
    "        b = int(row['B'])\n",
    "        pixels[x, y] = (r, g, b)\n",
    "\n",
    "# Save the image\n",
    "output_path = \"output_from_csv.png\"\n",
    "image.save(\"output_from_csv.png\")\n",
    "print(f\"Image saved to {output_path}\")\n"
   ]
  }
 ],
 "metadata": {
  "kernelspec": {
   "display_name": "Python 3",
   "language": "python",
   "name": "python3"
  },
  "language_info": {
   "codemirror_mode": {
    "name": "ipython",
    "version": 3
   },
   "file_extension": ".py",
   "mimetype": "text/x-python",
   "name": "python",
   "nbconvert_exporter": "python",
   "pygments_lexer": "ipython3",
   "version": "3.10.12"
  }
 },
 "nbformat": 4,
 "nbformat_minor": 5
}
