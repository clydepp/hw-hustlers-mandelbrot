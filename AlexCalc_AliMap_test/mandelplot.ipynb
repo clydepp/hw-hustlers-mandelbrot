{
 "cells": [
  {
   "cell_type": "code",
   "execution_count": null,
   "id": "bb996439",
   "metadata": {},
   "outputs": [
    {
     "ename": "IndexError",
     "evalue": "image index out of range",
     "output_type": "error",
     "traceback": [
      "\u001b[0;31m---------------------------------------------------------------------------\u001b[0m",
      "\u001b[0;31mIndexError\u001b[0m                                Traceback (most recent call last)",
      "Cell \u001b[0;32mIn[3], line 39\u001b[0m\n\u001b[1;32m     37\u001b[0m g \u001b[38;5;241m=\u001b[39m \u001b[38;5;28mint\u001b[39m(row[\u001b[38;5;124m'\u001b[39m\u001b[38;5;124mg\u001b[39m\u001b[38;5;124m'\u001b[39m])\n\u001b[1;32m     38\u001b[0m b \u001b[38;5;241m=\u001b[39m \u001b[38;5;28mint\u001b[39m(row[\u001b[38;5;124m'\u001b[39m\u001b[38;5;124mb\u001b[39m\u001b[38;5;124m'\u001b[39m])\n\u001b[0;32m---> 39\u001b[0m \u001b[43mpixels\u001b[49m\u001b[43m[\u001b[49m\u001b[43mx\u001b[49m\u001b[43m,\u001b[49m\u001b[43m \u001b[49m\u001b[43my\u001b[49m\u001b[43m]\u001b[49m \u001b[38;5;241m=\u001b[39m (r, g, b)\n\u001b[1;32m     40\u001b[0m \u001b[38;5;66;03m#print(f\"Set pixel at ({x}, {y}) to RGB({r}, {g}, {b})\")\u001b[39;00m\n\u001b[1;32m     42\u001b[0m \u001b[38;5;28;01mif\u001b[39;00m x \u001b[38;5;241m==\u001b[39m \u001b[38;5;241m959\u001b[39m \u001b[38;5;129;01mand\u001b[39;00m y \u001b[38;5;241m==\u001b[39m \u001b[38;5;241m719\u001b[39m:\n",
      "\u001b[0;31mIndexError\u001b[0m: image index out of range"
     ]
    }
   ],
   "source": [
    "from PIL import Image\n",
    "import os\n",
    "import csv\n",
    "\n",
    "# Get the directory where the script is located\n",
    "\n",
    "\n",
    "# Path to your CSV\n",
    "\n",
    "\n",
    "# First, determine the width and height from the CSV\n",
    "max_x = max_y = 0\n",
    "with open(\"pixels.csv\", newline='') as csvfile:\n",
    "    reader = csv.DictReader(csvfile)\n",
    "    for row in reader:\n",
    "        x = int(row['x'])\n",
    "        y = int(row['y'])\n",
    "        max_x = max(max_x, x)\n",
    "        max_y = max(max_y, y)\n",
    "\n",
    "# Image dimensions are max index + 1\n",
    "# width = max_x + 1\n",
    "# height = max_y + 1\n",
    "width = 960\n",
    "height = 720\n",
    "# Create an empty RGB image\n",
    "image = Image.new('RGB', (width, height))\n",
    "pixels = image.load()\n",
    "\n",
    "#Fill the image with RGB values from the CSV\n",
    "with open(\"pixels.csv\", newline='') as csvfile:\n",
    "    reader = csv.DictReader(csvfile)\n",
    "    for row in reader:\n",
    "        x = int(row['x'])\n",
    "        y = int(row['y'])\n",
    "        r = int(row['r'])\n",
    "        g = int(row['g'])\n",
    "        b = int(row['b'])\n",
    "        pixels[x, y] = (r, g, b)\n",
    "        #print(f\"Set pixel at ({x}, {y}) to RGB({r}, {g}, {b})\")\n",
    "\n",
    "        if x == 959 and y == 719:\n",
    "            print(\"Reached the last pixel in the CSV.\")\n",
    "            break\n",
    "\n",
    "# Save the image\n",
    "output_path = \"output_from_csv.png\"\n",
    "image.save(\"output_from_csv.png\")\n",
    "print(f\"Image saved to {output_path}\")\n"
   ]
  }
 ],
 "metadata": {
  "kernelspec": {
   "display_name": "Python 3",
   "language": "python",
   "name": "python3"
  },
  "language_info": {
   "codemirror_mode": {
    "name": "ipython",
    "version": 3
   },
   "file_extension": ".py",
   "mimetype": "text/x-python",
   "name": "python",
   "nbconvert_exporter": "python",
   "pygments_lexer": "ipython3",
   "version": "3.10.12"
  }
 },
 "nbformat": 4,
 "nbformat_minor": 5
}
