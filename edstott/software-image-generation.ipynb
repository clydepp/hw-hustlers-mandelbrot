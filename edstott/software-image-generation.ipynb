{
 "cells": [
  {
   "cell_type": "markdown",
   "id": "266e729b",
   "metadata": {},
   "source": [
    "# Software Image Generation\n",
    "This notebook demonstrates generating a test image in software and displaying it on a HDMI device\n",
    "\n",
    "First, some modules are loaded and the Pynq is configured:"
   ]
  },
  {
   "cell_type": "code",
   "execution_count": null,
   "id": "e9b155c6",
   "metadata": {},
   "outputs": [],
   "source": [
    "%load_ext cython\n",
    "import cython\n",
    "from pynq.overlays.base import BaseOverlay\n",
    "from pynq.lib.video import *\n",
    "\n",
    "base = BaseOverlay(\"base.bit\")\n",
    "hdmi_out = base.video.hdmi_out"
   ]
  },
  {
   "cell_type": "markdown",
   "id": "e3880faf",
   "metadata": {},
   "source": [
    "We'll define a function to generate a test image. A NumPy iterator is used to loop over every byte in an image array `f`. Each pixel element (red, green, blue) is accessed separately and written with an 8-bit intensity. First a colour (hue) index h is calculated by summing:\n",
    "\n",
    "- The pixel coordinates, accessed with it.multi_index[0] and it.multi_index[1]\n",
    "- The colour of the element it.multi_index[2] multiplied by 85, so that the red, green and blue peaks are offset by 1/3 of the repeating pattern\n",
    "- The frame number `n` multiplied by 32, so that the pattern shifts on every frame\n",
    "\n",
    "The result is truncated to an 8-bit number with a modulo operation, which causes a repeating cycle of colours.\n",
    "\n",
    "A piecewise conversion function is used to convert the hue to an intensity. Values of 85 and below result in a linear ramp up of intensity, values 86 to 171 ramp down in intensity and values above 171 are set to 0."
   ]
  },
  {
   "cell_type": "code",
   "execution_count": 24,
   "id": "1790f11a",
   "metadata": {},
   "outputs": [],
   "source": [
    "def genImage(f, n):\n",
    "  with np.nditer(f, flags=['multi_index'], op_flags=['writeonly']) as it:\n",
    "    for x in it:\n",
    "        h = (it.multi_index[0]+it.multi_index[1]+it.multi_index[2]*85+n) % 256\n",
    "        if h <= 85:\n",
    "            x[...] = h*3\n",
    "        elif h <= 171:\n",
    "            x[...] = (171-h)*3\n",
    "        else:\n",
    "            x[...] = 0"
   ]
  },
  {
   "cell_type": "markdown",
   "id": "3f3cc1e8",
   "metadata": {},
   "source": [
    "We can test it in the notebook using PIL:"
   ]
  },
  {
   "cell_type": "code",
   "execution_count": null,
   "id": "ee294b57",
   "metadata": {},
   "outputs": [],
   "source": [
    "import PIL.Image\n",
    "import numpy\n",
    "\n",
    "frame = numpy.zeros((480,640,3), dtype = 'uint8')\n",
    "genImage(frame,0)\n",
    "image = PIL.Image.fromarray(frame)\n",
    "image                    "
   ]
  },
  {
   "cell_type": "markdown",
   "id": "ab9d066b",
   "metadata": {},
   "source": [
    "The image can be displayed on the HDMI output. First, the HDMI output logic is initialised:"
   ]
  },
  {
   "cell_type": "code",
   "execution_count": null,
   "id": "c8f61b0c",
   "metadata": {},
   "outputs": [],
   "source": [
    "videoMode = common.VideoMode(640, 480, 24)\n",
    "hdmi_out.configure(videoMode)\n",
    "hdmi_out.cacheable_frames = False\n",
    "\n",
    "hdmi_out.start()"
   ]
  },
  {
   "cell_type": "markdown",
   "id": "8a6bf657",
   "metadata": {},
   "source": [
    "Now we can generate a sequence of frames and display them. Each time, a reference to a new array in memory is created with `hdmi_out.newframe()`. Unlike normal Python objects, the library ensures that this array is accessible to the hardware. Changing the `n` parameter shifts the image in each frame."
   ]
  },
  {
   "cell_type": "code",
   "execution_count": null,
   "id": "ea6c9ed3",
   "metadata": {
    "scrolled": false
   },
   "outputs": [],
   "source": [
    "from time import process_time\n",
    "FRAMES = 5\n",
    "FRAME_STEP = 32\n",
    "start = process_time()\n",
    "\n",
    "for n in range (FRAMES):\n",
    "  f = hdmi_out.newframe()\n",
    "\n",
    "  genImage(f,n*32)\n",
    "    \n",
    "  hdmi_out.writeframe(f)\n",
    "  print('.', end='')\n",
    "    \n",
    "print(\"\\n{:.2f} Frames per second\".format(FRAMES/(process_time()-start)))  "
   ]
  },
  {
   "cell_type": "markdown",
   "id": "166e33b7",
   "metadata": {},
   "source": [
    "Notice how slow this example is, just to generate a simple test pattern. An interpreted language like Python is not a good choice for implmenting tight loops like pixel generation, particularly on the Pynq CPU core.\n",
    "\n",
    "We can get a large speedup by compiling the image generation kernel into a C-like object. Cython offers a good trade-off between productivity and performance."
   ]
  },
  {
   "cell_type": "markdown",
   "id": "69876983",
   "metadata": {},
   "source": [
    "The cell below defines a new image generator function that will be compiled with Cython. Jupyter performs the compilation when the cell is executed.\n",
    "The function is valid Python code, but all the variables have been annotated with types and the input array is defined as a three-dimensional array of `chars` (bytes) with `cython.char[:, :, :]`. The image generation kernel is the same as above, except that the array is indexed directly with one nested loop per dimension, instead of using the NumPy iterator. The cell takes a while to run due to the compilation, but this only needs to happen when the code in the function is changed\n",
    "\n",
    "- [ ] TODO: this has stopped working for some reason!"
   ]
  },
  {
   "cell_type": "code",
   "execution_count": null,
   "id": "707d209a",
   "metadata": {},
   "outputs": [],
   "source": [
    "%%cython\n",
    "\n",
    "def genImage_c(arr: cython.char[:, :, :], n: cython.int):\n",
    "    y_max: Py_ssize_t  = arr.shape[0]\n",
    "    x_max: Py_ssize_t  = arr.shape[1]\n",
    "    c_max: Py_ssize_t  = arr.shape[2]\n",
    "    \n",
    "    x: Py_ssize_t\n",
    "    y: Py_ssize_t\n",
    "    c: Py_ssize_t\n",
    "        \n",
    "    for x in range(x_max):\n",
    "      for y in range(y_max):\n",
    "        for c in range(c_max):\n",
    "            h = (x+y+c*85+n) % 256\n",
    "            if h <= 85:\n",
    "                arr[y,x,c] = h*3\n",
    "            elif h <= 171:\n",
    "                arr[y,x,c] = (171-h)*3\n",
    "            else:\n",
    "                arr[y,x,c] = 0"
   ]
  },
  {
   "cell_type": "code",
   "execution_count": null,
   "id": "2ac20505",
   "metadata": {},
   "outputs": [],
   "source": [
    "FRAME_STEP = 2\n",
    "FRAMES = 50\n",
    "\n",
    "start = process_time()\n",
    "for n in range (FRAMES):\n",
    "  f = hdmi_out.newframe()\n",
    "  genImage_c(f,n*FRAME_STEP)\n",
    "  hdmi_out.writeframe(f)\n",
    "  print('.', end='')\n",
    "print(\"\\n{:.2f} Frames per second\".format(FRAMES/(process_time()-start)))"
   ]
  },
  {
   "cell_type": "markdown",
   "id": "64966993",
   "metadata": {},
   "source": [
    "That's much faster, but it's not quick enough to produce a smooth animation and this is still a really simple example. So we'll need to generate images in hardware.\n",
    "\n",
    "We need to stop the HDMI output to tidy up:"
   ]
  },
  {
   "cell_type": "code",
   "execution_count": 21,
   "id": "632324c8",
   "metadata": {},
   "outputs": [],
   "source": [
    "hdmi_out.close()"
   ]
  }
 ],
 "metadata": {
  "kernelspec": {
   "display_name": "Python 3 (ipykernel)",
   "language": "python",
   "name": "python3"
  },
  "language_info": {
   "codemirror_mode": {
    "name": "ipython",
    "version": 3
   },
   "file_extension": ".py",
   "mimetype": "text/x-python",
   "name": "python",
   "nbconvert_exporter": "python",
   "pygments_lexer": "ipython3",
   "version": "3.10.4"
  }
 },
 "nbformat": 4,
 "nbformat_minor": 5
}
